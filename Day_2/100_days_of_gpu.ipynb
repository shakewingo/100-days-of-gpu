{
  "nbformat": 4,
  "nbformat_minor": 0,
  "metadata": {
    "colab": {
      "provenance": [],
      "gpuType": "T4"
    },
    "kernelspec": {
      "name": "python3",
      "display_name": "Python 3"
    },
    "language_info": {
      "name": "python"
    },
    "accelerator": "GPU"
  },
  "cells": [
    {
      "cell_type": "markdown",
      "source": [
        "# Day_1: Hello World"
      ],
      "metadata": {
        "id": "JnAU55XKu2MU"
      }
    },
    {
      "cell_type": "code",
      "source": [
        "%%writefile test.cu\n",
        "#include <stdio.h>\n",
        "__global__ void kernel(void) {}\n",
        "\n",
        "int main(void) {\n",
        "  kernel<<<1, 1>>>();\n",
        "  printf(\"Hello, World!\\n\");\n",
        "  return 0;\n",
        "}"
      ],
      "metadata": {
        "colab": {
          "base_uri": "https://localhost:8080/"
        },
        "id": "Oi-EPCafuyWj",
        "outputId": "97773e25-3cb0-48a3-905b-ce199fe6120f"
      },
      "execution_count": null,
      "outputs": [
        {
          "output_type": "stream",
          "name": "stdout",
          "text": [
            "Writing test.cu\n"
          ]
        }
      ]
    },
    {
      "cell_type": "code",
      "source": [
        "# Compile w nvcc\n",
        "!nvcc test.cu -o test"
      ],
      "metadata": {
        "id": "9O7X6DQe13aZ"
      },
      "execution_count": null,
      "outputs": []
    },
    {
      "cell_type": "code",
      "source": [
        "# Run the compiled binary\n",
        "!./test"
      ],
      "metadata": {
        "colab": {
          "base_uri": "https://localhost:8080/"
        },
        "id": "TpMfLgbD1-Ku",
        "outputId": "81e52a16-4a2f-472f-e15c-3a2e4aa0cfdb"
      },
      "execution_count": null,
      "outputs": [
        {
          "output_type": "stream",
          "name": "stdout",
          "text": [
            "Hello, World!\n"
          ]
        }
      ]
    },
    {
      "cell_type": "code",
      "source": [],
      "metadata": {
        "id": "s6BhIdgx3k6X"
      },
      "execution_count": null,
      "outputs": []
    },
    {
      "cell_type": "markdown",
      "source": [
        "# Day_2: Introduction of params, querying device etc."
      ],
      "metadata": {
        "id": "WSw9Bcdd6kAn"
      }
    },
    {
      "cell_type": "code",
      "source": [
        "# pass params\n",
        "%%writefile test_2.cu\n",
        "#include <stdio.h>\n",
        "__global__ void add(int a, int b, int *c) {\n",
        "    *c = a + b;\n",
        "}\n",
        "\n",
        "int main(void) {\n",
        "    // my understanding of below's code:\n",
        "    int c;\n",
        "    int *dev_c;\n",
        "\n",
        "    // first allocate memory to store the new para\n",
        "    cudaMalloc((void**)&dev_c, sizeof(int));\n",
        "\n",
        "    // execute func on device\n",
        "    add<<<1, 1>>>(2, 7, dev_c);\n",
        "\n",
        "    // copy memory from device to host?\n",
        "    cudaMemcpy(&c, &dev_c, sizeof(int), cudaMemcpyDeviceToHost);\n",
        "\n",
        "    printf(\"2 + 7 = %d\\n\", c);\n",
        "\n",
        "    // free the var/memory?\n",
        "    cudaFree(dev_c);\n",
        "    return 0;\n",
        "\n",
        "}"
      ],
      "metadata": {
        "colab": {
          "base_uri": "https://localhost:8080/"
        },
        "id": "p3pG4j6K6liz",
        "outputId": "a5546e93-006b-4233-a1c4-b6cfb4d0fcc1"
      },
      "execution_count": 19,
      "outputs": [
        {
          "output_type": "stream",
          "name": "stdout",
          "text": [
            "Overwriting test_2.cu\n"
          ]
        }
      ]
    },
    {
      "cell_type": "code",
      "source": [
        "# Compile w nvcc\n",
        "!nvcc test_2.cu -o test_2\n",
        "# Run the compiled binary\n",
        "!./test_2"
      ],
      "metadata": {
        "colab": {
          "base_uri": "https://localhost:8080/"
        },
        "id": "CjZiiOgm-drG",
        "outputId": "ce6ff2d7-31be-4244-e4d6-09cc27e3b9d2"
      },
      "execution_count": 20,
      "outputs": [
        {
          "output_type": "stream",
          "name": "stdout",
          "text": [
            "2 + 7 = 1\n"
          ]
        }
      ]
    },
    {
      "cell_type": "code",
      "source": [],
      "metadata": {
        "id": "JxJyUofBDtbG"
      },
      "execution_count": null,
      "outputs": []
    }
  ]
}